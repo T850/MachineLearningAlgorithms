{
 "cells": [
  {
   "cell_type": "code",
   "execution_count": null,
   "id": "4ac4e680",
   "metadata": {},
   "outputs": [],
   "source": [
    "import numpy as np\n",
    "from numpy.core.multiarray import ndarray\n",
    "\n",
    "np.random.seed(33)"
   ]
  },
  {
   "cell_type": "markdown",
   "id": "09b6b51f",
   "metadata": {},
   "source": [
    "# Logistic Regression"
   ]
  },
  {
   "cell_type": "markdown",
   "id": "22e0cf7a",
   "metadata": {},
   "source": [
    "## Mathematical description "
   ]
  },
  {
   "cell_type": "markdown",
   "id": "0c8b7c74",
   "metadata": {},
   "source": [
    "$\\normalsize \\mathbf{z} = \\mathbf{X} \\cdot \\mathbf{w}^T$\n",
    "\n",
    "$\\normalsize \\mathbf{y} = \\sigma(\\mathbf{z}) = \\frac{1}{1 - e^{-\\mathbf{z}}} \\Rightarrow e^{-\\mathbf{z}} = \\frac{1 - \\sigma(\\mathbf{z})}{\\sigma(\\mathbf{z})}$\n",
    "\n",
    "$ $"
   ]
  },
  {
   "cell_type": "markdown",
   "id": "4fcfc17f",
   "metadata": {},
   "source": [
    "Loss function - negative log likelihood\n",
    "\n",
    "$\\normalsize \\xi(\\mathbf{t}, \\mathbf{y}) = \\sum -\\mathbf{t} log(\\mathbf{y}) - (1-\\mathbf{t})log(1-\\mathbf{y})) = -\\sum (\\mathbf{t} log(\\mathbf{y}) + (1-\\mathbf{t})log(1-\\mathbf{y}))$\n",
    "\n",
    "\n",
    "$ $"
   ]
  },
  {
   "cell_type": "markdown",
   "id": "9bab6404",
   "metadata": {},
   "source": [
    "$\\normalsize \\mathbf{w}(k+1) = \\mathbf{w}(k) - \\Delta \\mathbf{w}(k+1)$.\n",
    "\n",
    "$\\normalsize \\Delta \\mathbf{w} = \\mu \\frac{\\partial \\xi}{\\partial \\mathbf{w}}$\n",
    "\n",
    "$ $"
   ]
  },
  {
   "cell_type": "markdown",
   "id": "2fffb41d",
   "metadata": {},
   "source": [
    "$\\normalsize \\frac{\\partial \\xi}{\\partial \\mathbf{w}} = \\frac{\\partial \\xi}{\\partial \\mathbf{y}} \\frac{\\partial \\mathbf{y}}{\\partial \\mathbf{z}} \\frac{\\partial \\mathbf{z}}{\\partial \\mathbf{w}}$\n",
    "\n",
    "$\\normalsize \\frac{\\partial \\mathbf{z}}{\\partial \\mathbf{w}} = (\\mathbf{X} \\cdot \\mathbf{w}^T)^{'} = \\mathbf{X}^T$\n",
    "\n",
    "$\\normalsize \\frac{\\partial \\mathbf{y}}{\\partial \\mathbf{z}} = (\\frac{1}{1 - e^{-\\mathbf{z}}})^{'} = - \\frac{(1-e^{-\\mathbf{z}})^{'}}{(1 - e^{-\\mathbf{z}})^2} = \\frac{e^{-\\mathbf{z}}}{(1 - e^{-\\mathbf{z}})^2} = \\frac {\\frac {1 - \\sigma(\\mathbf{z})} {\\sigma(\\mathbf{z})}} {\\frac {1} {\\sigma^2(\\mathbf{z})}} = \\sigma^2(\\mathbf{z}) \\frac {1 - \\sigma(\\mathbf{z})} {\\sigma(\\mathbf{z})} = \\sigma(\\mathbf{z})(1 - \\sigma(\\mathbf{z})) = \\mathbf{y} (1 - \\mathbf{y}) $\n",
    "\n",
    "$\\normalsize \\frac{\\partial \\xi}{\\partial \\mathbf{y}} = (-\\mathbf{t} log(\\mathbf{y}) - (1-\\mathbf{t})log(1-\\mathbf{y}))^{'} = (-\\mathbf{t} log(\\mathbf{y}))^{'} - ((1-\\mathbf{t})log(1-\\mathbf{y}))^{'} = -\\frac{\\mathbf{t}}{\\mathbf{y}}+\\frac{1-\\mathbf{t}}{1-\\mathbf{y}} = \\frac{-\\mathbf{t}(1-\\mathbf{y})+\\mathbf{y}(1-\\mathbf{t})}{\\mathbf{y}(1-\\mathbf{y})}=$\n",
    "\n",
    "$ = \\frac{-\\mathbf{t}+\\mathbf{ty}+\\mathbf{y}-\\mathbf{yt}}{\\mathbf{y}(1-\\mathbf{y})} = \\frac{\\mathbf{y} - \\mathbf{t}}{\\mathbf{y} (1 - \\mathbf{y})}$\n",
    "\n",
    "$\\normalsize \\frac{\\partial \\xi}{\\partial \\mathbf{w}} \n",
    "= \\frac{\\partial \\xi}{\\partial \\mathbf{y}} \\frac{\\partial \\mathbf{y}}{\\partial \\mathbf{z}} \\frac{\\partial \\mathbf{z}}{\\partial \\mathbf{w}} \n",
    "= \\frac{\\mathbf{y} - \\mathbf{t}}{\\mathbf{y} (1-\\mathbf{y})} \\cdot \\mathbf{y} (1 - \\mathbf{y}) \\cdot \\mathbf{X}^T    \n",
    "= (\\mathbf{y}-\\mathbf{t}) \\cdot \\mathbf{X}^T $\n",
    "\n",
    "$ $"
   ]
  },
  {
   "cell_type": "markdown",
   "id": "a19e6130",
   "metadata": {},
   "source": [
    "$\\normalsize \\Delta \\mathbf{w} = \\mu \\cdot \\frac{\\partial \\xi}{\\partial \\mathbf{w}} = \\mu \\cdot (\\mathbf{y}-\\mathbf{t}) \\cdot \\mathbf{X}^T $"
   ]
  },
  {
   "cell_type": "markdown",
   "id": "0fb7fe57",
   "metadata": {},
   "source": [
    "## Implementation in Python"
   ]
  },
  {
   "cell_type": "code",
   "execution_count": null,
   "id": "0b800c67",
   "metadata": {},
   "outputs": [],
   "source": [
    "def negative_log_likelihood(y_true: ndarray, y_pred: ndarray):\n",
    "    loss = -np.mean(y_true * np.log(y_pred) + (1 - y_true) * np.log(1 - y_pred))\n",
    "    return loss\n",
    "\n",
    "\n",
    "def sigmoid(x: ndarray) -> float:\n",
    "    return 1.0 / (1 + np.exp(-x))\n",
    "\n",
    "\n",
    "class LogisticRegression:\n",
    "    def __init__(self) -> None:\n",
    "        self.weights = None\n",
    "        self.intercept = None\n",
    "        self.errors = list()\n",
    "\n",
    "    def fit(self, X_train: ndarray, y: ndarray, n_epochs: int, learning_rate: float) -> None:\n",
    "        X = np.hstack((X_train, np.ones((len(X_train), 1))))\n",
    "        w = np.random.randn(X.shape[1])\n",
    "        N = len(y)\n",
    "\n",
    "        for _ in range(n_epochs):\n",
    "            y_pred = X @ w\n",
    "            gradient_step = learning_rate * (y_pred - y) @ X\n",
    "            w -= gradient_step\n",
    "            self.errors.append(negative_log_likelihood(y, sigmoid(X @ w)))\n",
    "\n",
    "        self.weights = w[:-1]\n",
    "        self.intercept = w[-1]\n",
    "\n",
    "    def predict(self, X_test: ndarray, return_probability: bool = True) -> ndarray:\n",
    "        if self.weights is None:\n",
    "            raise Exception(\"This linear regression instance is not fitted yet.\")\n",
    "        y_pred = sigmoid(X_test @ self.weights + self.intercept)\n",
    "        if not return_probability:\n",
    "            y_pred = np.around(y_pred)\n",
    "        return y_pred"
   ]
  },
  {
   "cell_type": "markdown",
   "id": "690959fa",
   "metadata": {},
   "source": [
    "This implementation is without regularization however for logistic regression it is very important to use regularization due to its asymptotic nature. The optimizer, if not regularized, will enlarge the weights of the logistic regression to put Xw as far as possible to the left or right per sample to reduce the loss maximally."
   ]
  }
 ],
 "metadata": {
  "kernelspec": {
   "display_name": "Python 3",
   "language": "python",
   "name": "python3"
  },
  "language_info": {
   "codemirror_mode": {
    "name": "ipython",
    "version": 3
   },
   "file_extension": ".py",
   "mimetype": "text/x-python",
   "name": "python",
   "nbconvert_exporter": "python",
   "pygments_lexer": "ipython3",
   "version": "3.8.8"
  }
 },
 "nbformat": 4,
 "nbformat_minor": 5
}
